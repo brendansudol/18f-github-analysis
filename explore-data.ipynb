{
 "cells": [
  {
   "cell_type": "code",
   "execution_count": 1,
   "metadata": {
    "collapsed": false
   },
   "outputs": [],
   "source": [
    "%matplotlib inline\n",
    "\n",
    "import json\n",
    "import pandas as pd\n",
    "import seaborn as sns\n",
    "\n",
    "pd.set_option('display.float_format', '{:.3f}'.format)\n",
    "pd.set_option('display.max_columns', 40)\n",
    "sns.set_style(\"darkgrid\")\n",
    "sns.set_context(rc={\"figure.figsize\": (8, 6)})"
   ]
  },
  {
   "cell_type": "code",
   "execution_count": 2,
   "metadata": {
    "collapsed": true
   },
   "outputs": [],
   "source": [
    "with open('data/commits.json') as f:\n",
    "    data = json.load(f)"
   ]
  },
  {
   "cell_type": "code",
   "execution_count": 3,
   "metadata": {
    "collapsed": false
   },
   "outputs": [],
   "source": [
    "# clean up & remove unneeded fields\n",
    "\n",
    "cleaned = []\n",
    "\n",
    "for repo, commits in data.items():\n",
    "    for c in commits:\n",
    "        info = c['commit']\n",
    "        stats = c['stats']\n",
    "        details = [\n",
    "            { k: f[k] for k in ['additions', 'deletions', 'changes', 'filename'] }\n",
    "            for f in c['files']\n",
    "        ]\n",
    "\n",
    "        cleaned.append({\n",
    "            'dt': info['author']['date'],\n",
    "            'sha': c['sha'],\n",
    "            'url': c['html_url'],\n",
    "            'repo': repo,\n",
    "            'username': (c.get('author') or {}).get('login'),\n",
    "            'name': info['author']['name'].lower(),\n",
    "            'message': info['message'],\n",
    "            'additions': stats['additions'],\n",
    "            'deletions': stats['deletions'],\n",
    "            'total': stats['total'],\n",
    "            'details': details,\n",
    "        })\n",
    "\n",
    "# save locally\n",
    "with open('data/commits-cleaned.json', 'w') as f:\n",
    "    json.dump(cleaned, f, ensure_ascii=False)"
   ]
  },
  {
   "cell_type": "code",
   "execution_count": 4,
   "metadata": {
    "collapsed": false
   },
   "outputs": [
    {
     "data": {
      "text/plain": [
       "additions                                                 1217\n",
       "deletions                                                    0\n",
       "details      [{'additions': 127, 'filename': 'cf-deployment...\n",
       "dt                                         2015-03-05 21:10:46\n",
       "message                                Keep only small release\n",
       "name                                             diego lapiduz\n",
       "repo                                              cg-deploy-cf\n",
       "sha                   cd5cf97664cd678237aabadde414b0f9c54d72cf\n",
       "total                                                     1217\n",
       "url          https://github.com/18F/cg-deploy-cf/commit/cd5...\n",
       "username                                              dlapiduz\n",
       "date                                                2015-03-05\n",
       "month                                                        3\n",
       "dow                                                          3\n",
       "hour                                                        17\n",
       "Name: 61672, dtype: object"
      ]
     },
     "execution_count": 4,
     "metadata": {},
     "output_type": "execute_result"
    }
   ],
   "source": [
    "# convert to pandas dataframe and explore \n",
    "\n",
    "df = pd.DataFrame(cleaned)\n",
    "\n",
    "df['dt'] = pd.to_datetime(df['dt'])\n",
    "df.sort_values(by='dt', inplace=True)\n",
    "\n",
    "df['date'] = df['dt'].apply(lambda x: x.date())\n",
    "df['month'] = df['dt'].apply(lambda x: x.month)\n",
    "df['dow'] = df['dt'].apply(lambda x: x.dayofweek)\n",
    "df['hour'] = df['dt'].apply(lambda x: (x.hour - 4) % 24) # convert to eastern\n",
    "\n",
    "df.iloc[0]"
   ]
  },
  {
   "cell_type": "code",
   "execution_count": 5,
   "metadata": {
    "collapsed": false
   },
   "outputs": [
    {
     "data": {
      "text/plain": [
       "78785"
      ]
     },
     "execution_count": 5,
     "metadata": {},
     "output_type": "execute_result"
    }
   ],
   "source": [
    "# how many total commits?\n",
    "\n",
    "len(df)"
   ]
  },
  {
   "cell_type": "code",
   "execution_count": 6,
   "metadata": {
    "collapsed": false
   },
   "outputs": [
    {
     "name": "stdout",
     "output_type": "stream",
     "text": [
      "        additions   deletions       total\n",
      "count   78785.000   78785.000   78785.000\n",
      "mean      575.284     313.303     888.586\n",
      "std     15829.208   13651.792   21296.106\n",
      "min         0.000       0.000       0.000\n",
      "25%         2.000       1.000       4.000\n",
      "50%         8.000       3.000      14.000\n",
      "75%        41.000      14.000      63.000\n",
      "max   1639862.000 1647305.000 1695259.000\n"
     ]
    }
   ],
   "source": [
    "# summary stats of lines added/deleted per commit\n",
    "\n",
    "print(df[['additions', 'deletions', 'total']].describe())"
   ]
  },
  {
   "cell_type": "code",
   "execution_count": 7,
   "metadata": {
    "collapsed": false
   },
   "outputs": [
    {
     "data": {
      "text/plain": [
       "count   391.000\n",
       "mean    189.872\n",
       "std     103.111\n",
       "min       1.000\n",
       "25%     154.000\n",
       "50%     219.000\n",
       "75%     259.500\n",
       "max     414.000\n",
       "dtype: float64"
      ]
     },
     "execution_count": 7,
     "metadata": {},
     "output_type": "execute_result"
    }
   ],
   "source": [
    "# summary stats of commits per day (weekdays only)\n",
    "\n",
    "df.query('dow < 5').groupby('date').size().describe()"
   ]
  },
  {
   "cell_type": "code",
   "execution_count": 8,
   "metadata": {
    "collapsed": false
   },
   "outputs": [
    {
     "data": {
      "text/plain": [
       "name\n",
       "tom lane          196\n",
       "aidan feldman     192\n",
       "adrian webb       186\n",
       "laura gerhardt    151\n",
       "joshua carp       138\n",
       "dtype: int64"
      ]
     },
     "execution_count": 8,
     "metadata": {},
     "output_type": "execute_result"
    }
   ],
   "source": [
    "# who's working on weekends? :)\n",
    "\n",
    "df.query('dow >= 5').groupby('name').size().sort_values(ascending=False)[:5]"
   ]
  },
  {
   "cell_type": "code",
   "execution_count": 9,
   "metadata": {
    "collapsed": false
   },
   "outputs": [
    {
     "data": {
      "text/plain": [
       "<matplotlib.axes._subplots.AxesSubplot at 0x13cfbe4a8>"
      ]
     },
     "execution_count": 9,
     "metadata": {},
     "output_type": "execute_result"
    },
    {
     "data": {
      "image/png": "[encoded data removed]",
      "text/plain": [
       "<matplotlib.figure.Figure at 0x13cfcda58>"
      ]
     },
     "metadata": {},
     "output_type": "display_data"
    }
   ],
   "source": [
    "# commits by day of the week\n",
    "\n",
    "df.groupby('dow').size().plot(kind='bar')"
   ]
  },
  {
   "cell_type": "code",
   "execution_count": 10,
   "metadata": {
    "collapsed": false
   },
   "outputs": [
    {
     "data": {
      "text/plain": [
       "<matplotlib.axes._subplots.AxesSubplot at 0x1037b9240>"
      ]
     },
     "execution_count": 10,
     "metadata": {},
     "output_type": "execute_result"
    },
    {
     "data": {
      "image/png": "[encoded data removed]",
      "text/plain": [
       "<matplotlib.figure.Figure at 0x141585c88>"
      ]
     },
     "metadata": {},
     "output_type": "display_data"
    }
   ],
   "source": [
    "# commits over time (rolling 7 day window)\n",
    "\n",
    "df.query('dt >= \"2016-01-01\"').groupby('date').size().rolling(window=7).mean().plot()"
   ]
  },
  {
   "cell_type": "code",
   "execution_count": 11,
   "metadata": {
    "collapsed": false
   },
   "outputs": [
    {
     "data": {
      "text/plain": [
       "<matplotlib.axes._subplots.AxesSubplot at 0x141c6fda0>"
      ]
     },
     "execution_count": 11,
     "metadata": {},
     "output_type": "execute_result"
    },
    {
     "data": {
      "image/png": "[encoded data removed]",
      "text/plain": [
       "<matplotlib.figure.Figure at 0x141c7c518>"
      ]
     },
     "metadata": {},
     "output_type": "display_data"
    }
   ],
   "source": [
    "# commits by hour (eastern)\n",
    "\n",
    "df.groupby('hour').size().plot(kind='bar')"
   ]
  },
  {
   "cell_type": "code",
   "execution_count": 12,
   "metadata": {
    "collapsed": false
   },
   "outputs": [],
   "source": [
    "# filter to last 6 months\n",
    "\n",
    "last_6_mo = df.query('dt > \"2016-10-01\"').copy()"
   ]
  },
  {
   "cell_type": "code",
   "execution_count": 13,
   "metadata": {
    "collapsed": false
   },
   "outputs": [],
   "source": [
    "# by person stats\n",
    "\n",
    "g = last_6_mo.groupby('name')"
   ]
  },
  {
   "cell_type": "code",
   "execution_count": 14,
   "metadata": {
    "collapsed": false
   },
   "outputs": [
    {
     "data": {
      "text/plain": [
       "name\n",
       "bryan allred       865\n",
       "atul varma         825\n",
       "noah manger        794\n",
       "shawn allen        774\n",
       "dan o. williams    706\n",
       "joshua carp        593\n",
       "marco segreto      555\n",
       "stvnrlly           538\n",
       "laura gerhardt     529\n",
       "aidan feldman      466\n",
       "dtype: int64"
      ]
     },
     "execution_count": 14,
     "metadata": {},
     "output_type": "execute_result"
    }
   ],
   "source": [
    "# most commits, count (by person)\n",
    "\n",
    "g.size().sort_values(ascending=False)[:10]"
   ]
  },
  {
   "cell_type": "code",
   "execution_count": 15,
   "metadata": {
    "collapsed": false
   },
   "outputs": [
    {
     "data": {
      "text/plain": [
       "name\n",
       "aidan feldman       3334241\n",
       "dan o. williams     2716508\n",
       "joshua carp         1246368\n",
       "catherine devlin    1022488\n",
       "colin craig         1004304\n",
       "jared cunha          943436\n",
       "james c. scott       481184\n",
       "jacob harris         436187\n",
       "diego lapiduz        280446\n",
       "greg walker          278008\n",
       "Name: additions, dtype: int64"
      ]
     },
     "execution_count": 15,
     "metadata": {},
     "output_type": "execute_result"
    }
   ],
   "source": [
    "# most lines of code added (by person)\n",
    "\n",
    "g['additions'].sum().sort_values(ascending=False)[:10]"
   ]
  },
  {
   "cell_type": "code",
   "execution_count": 16,
   "metadata": {
    "collapsed": false
   },
   "outputs": [
    {
     "data": {
      "text/plain": [
       "name\n",
       "colin craig         1795393\n",
       "catherine devlin    1740774\n",
       "dan o. williams      831319\n",
       "joshua carp          275915\n",
       "aaron d borden       237803\n",
       "greg walker          185570\n",
       "jacob harris         185552\n",
       "gray brooks          178398\n",
       "shawn allen          138641\n",
       "diego lapiduz        129899\n",
       "Name: deletions, dtype: int64"
      ]
     },
     "execution_count": 16,
     "metadata": {},
     "output_type": "execute_result"
    }
   ],
   "source": [
    "# most lines of code deleted (by person) aka the axe-people!\n",
    "\n",
    "g['deletions'].sum().sort_values(ascending=False)[:10]"
   ]
  },
  {
   "cell_type": "code",
   "execution_count": 17,
   "metadata": {
    "collapsed": false
   },
   "outputs": [
    {
     "data": {
      "text/plain": [
       "repo\n",
       "e-QIP-prototype    1441\n",
       "calc               1240\n",
       "cg-site            1033\n",
       "18f.gsa.gov        1005\n",
       "fec-cms             911\n",
       "identity-idp        869\n",
       "openFEC-web-app     841\n",
       "openFEC             775\n",
       "cg-dashboard        739\n",
       "handbook            689\n",
       "dtype: int64"
      ]
     },
     "execution_count": 17,
     "metadata": {},
     "output_type": "execute_result"
    }
   ],
   "source": [
    "# most commits (by repo)\n",
    "\n",
    "last_6_mo.groupby('repo').size().sort_values(ascending=False)[:10]"
   ]
  },
  {
   "cell_type": "code",
   "execution_count": 18,
   "metadata": {
    "collapsed": false
   },
   "outputs": [
    {
     "data": {
      "text/plain": [
       "Update README.md                                                    300\n",
       "Initial commit                                                      160\n",
       "hound                                                                87\n",
       "Private submodule update                                             46\n",
       "initial commit                                                       45\n",
       "Add files via upload                                                 43\n",
       "Update Translations                                                  37\n",
       "Update index.md                                                      36\n",
       "Some changes to pages/schools.md                                     36\n",
       "clean up                                                             33\n",
       "update standard files                                                28\n",
       "merge master                                                         26\n",
       "wip                                                                  24\n",
       "Merge branch 'master' into vdom                                      23\n",
       "Copyediting                                                          23\n",
       "fix typo                                                             22\n",
       "Merge remote-tracking branch 'upstream/master'                       22\n",
       "Fix typo                                                             21\n",
       "Some changes to pages/index.md                                       20\n",
       "Update navbar.yml                                                    19\n",
       "first commit                                                         19\n",
       "Merge branch 'master' of github.com:usds/website-redesign            19\n",
       "update README.md                                                     19\n",
       "Merge branch 'master' of github.com:truetandem/fedramp-dashboard     19\n",
       "typo                                                                 18\n",
       "Name: message, dtype: int64"
      ]
     },
     "execution_count": 18,
     "metadata": {},
     "output_type": "execute_result"
    }
   ],
   "source": [
    "# most common commit messages\n",
    "\n",
    "df.message.value_counts()[:25]"
   ]
  },
  {
   "cell_type": "code",
   "execution_count": 19,
   "metadata": {
    "collapsed": false
   },
   "outputs": [
    {
     "name": "stdout",
     "output_type": "stream",
     "text": [
      "count   78785.000\n",
      "mean       77.281\n",
      "std       139.037\n",
      "min         1.000\n",
      "25%        27.000\n",
      "50%        45.000\n",
      "75%        83.000\n",
      "max     11606.000\n",
      "Name: message, dtype: float64\n",
      "Axes(0.125,0.125;0.775x0.775)\n"
     ]
    },
    {
     "data": {
      "image/png": "[encoded data removed]",
      "text/plain": [
       "<matplotlib.figure.Figure at 0x141d34630>"
      ]
     },
     "metadata": {},
     "output_type": "display_data"
    }
   ],
   "source": [
    "# commit message length\n",
    "\n",
    "msg_len = df.message.apply(len)\n",
    "\n",
    "print(msg_len.describe())\n",
    "print(msg_len.hist(bins=20, range=(0, 200)))"
   ]
  },
  {
   "cell_type": "code",
   "execution_count": 20,
   "metadata": {
    "collapsed": false
   },
   "outputs": [
    {
     "name": "stdout",
     "output_type": "stream",
     "text": [
      "427765 rows\n"
     ]
    }
   ],
   "source": [
    "# expand details column (one row per file worked on)  \n",
    "\n",
    "files = df.details.apply(pd.Series).stack().reset_index(level=1, drop=True)\n",
    "files.name = 'file'\n",
    "\n",
    "dg = df.join(files).copy()\n",
    "\n",
    "print('{} rows'.format(len(dg)))"
   ]
  },
  {
   "cell_type": "code",
   "execution_count": 21,
   "metadata": {
    "collapsed": false
   },
   "outputs": [
    {
     "data": {
      "text/html": [
       "<div>\n",
       "<table border=\"1\" class=\"dataframe\">\n",
       "  <thead>\n",
       "    <tr style=\"text-align: right;\">\n",
       "      <th></th>\n",
       "      <th>dt</th>\n",
       "      <th>url</th>\n",
       "      <th>name</th>\n",
       "      <th>repo</th>\n",
       "      <th>file</th>\n",
       "      <th>f_name</th>\n",
       "      <th>f_type</th>\n",
       "      <th>f_additions</th>\n",
       "      <th>f_deletions</th>\n",
       "      <th>f_changes</th>\n",
       "    </tr>\n",
       "  </thead>\n",
       "  <tbody>\n",
       "    <tr>\n",
       "      <th>0</th>\n",
       "      <td>2016-06-08 18:57:47</td>\n",
       "      <td>https://github.com/18F/acq-trello-listener/com...</td>\n",
       "      <td>greg walker</td>\n",
       "      <td>acq-trello-listener</td>\n",
       "      <td>{'additions': 1, 'filename': 'package.json', '...</td>\n",
       "      <td>package.json</td>\n",
       "      <td>json</td>\n",
       "      <td>1</td>\n",
       "      <td>1</td>\n",
       "      <td>2</td>\n",
       "    </tr>\n",
       "    <tr>\n",
       "      <th>1</th>\n",
       "      <td>2016-06-08 18:43:27</td>\n",
       "      <td>https://github.com/18F/acq-trello-listener/com...</td>\n",
       "      <td>greg walker</td>\n",
       "      <td>acq-trello-listener</td>\n",
       "      <td>{'additions': 2, 'filename': '.travis.yml', 'c...</td>\n",
       "      <td>.travis.yml</td>\n",
       "      <td>yml</td>\n",
       "      <td>2</td>\n",
       "      <td>2</td>\n",
       "      <td>4</td>\n",
       "    </tr>\n",
       "    <tr>\n",
       "      <th>2</th>\n",
       "      <td>2016-06-08 18:40:17</td>\n",
       "      <td>https://github.com/18F/acq-trello-listener/com...</td>\n",
       "      <td>greg walker</td>\n",
       "      <td>acq-trello-listener</td>\n",
       "      <td>{'additions': 25, 'filename': '.travis.yml', '...</td>\n",
       "      <td>.travis.yml</td>\n",
       "      <td>yml</td>\n",
       "      <td>25</td>\n",
       "      <td>2</td>\n",
       "      <td>27</td>\n",
       "    </tr>\n",
       "    <tr>\n",
       "      <th>3</th>\n",
       "      <td>2016-06-08 15:56:08</td>\n",
       "      <td>https://github.com/18F/acq-trello-listener/com...</td>\n",
       "      <td>greg walker</td>\n",
       "      <td>acq-trello-listener</td>\n",
       "      <td>{'additions': 1, 'filename': 'manifest.yml', '...</td>\n",
       "      <td>manifest.yml</td>\n",
       "      <td>yml</td>\n",
       "      <td>1</td>\n",
       "      <td>0</td>\n",
       "      <td>1</td>\n",
       "    </tr>\n",
       "    <tr>\n",
       "      <th>4</th>\n",
       "      <td>2016-06-07 22:04:51</td>\n",
       "      <td>https://github.com/18F/acq-trello-listener/com...</td>\n",
       "      <td>laura gehardt</td>\n",
       "      <td>acq-trello-listener</td>\n",
       "      <td>{'additions': 20, 'filename': 'test/webhookHan...</td>\n",
       "      <td>intake.js</td>\n",
       "      <td>js</td>\n",
       "      <td>20</td>\n",
       "      <td>2</td>\n",
       "      <td>22</td>\n",
       "    </tr>\n",
       "  </tbody>\n",
       "</table>\n",
       "</div>"
      ],
      "text/plain": [
       "                   dt                                                url  \\\n",
       "0 2016-06-08 18:57:47  https://github.com/18F/acq-trello-listener/com...   \n",
       "1 2016-06-08 18:43:27  https://github.com/18F/acq-trello-listener/com...   \n",
       "2 2016-06-08 18:40:17  https://github.com/18F/acq-trello-listener/com...   \n",
       "3 2016-06-08 15:56:08  https://github.com/18F/acq-trello-listener/com...   \n",
       "4 2016-06-07 22:04:51  https://github.com/18F/acq-trello-listener/com...   \n",
       "\n",
       "            name                 repo  \\\n",
       "0    greg walker  acq-trello-listener   \n",
       "1    greg walker  acq-trello-listener   \n",
       "2    greg walker  acq-trello-listener   \n",
       "3    greg walker  acq-trello-listener   \n",
       "4  laura gehardt  acq-trello-listener   \n",
       "\n",
       "                                                file        f_name f_type  \\\n",
       "0  {'additions': 1, 'filename': 'package.json', '...  package.json   json   \n",
       "1  {'additions': 2, 'filename': '.travis.yml', 'c...   .travis.yml    yml   \n",
       "2  {'additions': 25, 'filename': '.travis.yml', '...   .travis.yml    yml   \n",
       "3  {'additions': 1, 'filename': 'manifest.yml', '...  manifest.yml    yml   \n",
       "4  {'additions': 20, 'filename': 'test/webhookHan...     intake.js     js   \n",
       "\n",
       "   f_additions  f_deletions  f_changes  \n",
       "0            1            1          2  \n",
       "1            2            2          4  \n",
       "2           25            2         27  \n",
       "3            1            0          1  \n",
       "4           20            2         22  "
      ]
     },
     "execution_count": 21,
     "metadata": {},
     "output_type": "execute_result"
    }
   ],
   "source": [
    "# clean up new dataframe, remove nulls, add helper cols\n",
    "\n",
    "keep_cols = ['dt', 'url', 'name', 'repo', 'file']\n",
    "dh = dg[dg.file.notnull()][keep_cols].copy()\n",
    "\n",
    "dh['f_name'] = dh['file'].apply(lambda x: x['filename'].split('/')[-1])\n",
    "dh['f_type'] = dh['f_name'].apply(lambda x: x.split('.')[-1])\n",
    "for key in ['additions', 'deletions', 'changes']:\n",
    "    dh['f_{}'.format(key)] = dh['file'].apply(lambda x: x[key])    \n",
    "\n",
    "dh.head()"
   ]
  },
  {
   "cell_type": "code",
   "execution_count": 22,
   "metadata": {
    "collapsed": false
   },
   "outputs": [
    {
     "data": {
      "text/plain": [
       "<matplotlib.axes._subplots.AxesSubplot at 0x146ffa278>"
      ]
     },
     "execution_count": 22,
     "metadata": {},
     "output_type": "execute_result"
    },
    {
     "data": {
      "image/png": "[encoded data removed]",
      "text/plain": [
       "<matplotlib.figure.Figure at 0x14700bc88>"
      ]
     },
     "metadata": {},
     "output_type": "display_data"
    }
   ],
   "source": [
    "# types of files committed\n",
    "\n",
    "dh.f_type.value_counts()[:15].iloc[::-1].plot('barh')"
   ]
  },
  {
   "cell_type": "code",
   "execution_count": 23,
   "metadata": {
    "collapsed": false,
    "scrolled": false
   },
   "outputs": [
    {
     "name": "stdout",
     "output_type": "stream",
     "text": [
      "PY:\n",
      "\n",
      "name\n",
      "atul varma          60873\n",
      "lindsayyoung        44405\n",
      "colin craig         36254\n",
      "catherine devlin    32002\n",
      "jonathan carmack    31493\n",
      "Name: f_changes, dtype: int64\n",
      "\n",
      "---\n",
      "\n",
      "RB:\n",
      "\n",
      "name\n",
      "peter karman        86572\n",
      "jessie a. young     63281\n",
      "alan delevie        54087\n",
      "jacob harris        51670\n",
      "moncef belyamani    41470\n",
      "Name: f_changes, dtype: int64\n",
      "\n",
      "---\n",
      "\n",
      "HTML:\n",
      "\n",
      "name\n",
      "anthony garvan       160423\n",
      "john flores           55051\n",
      "bryan allred          52142\n",
      "heather battaglia     43675\n",
      "shawn allen           40876\n",
      "Name: f_changes, dtype: int64\n",
      "\n",
      "---\n",
      "\n",
      "JS:\n",
      "\n",
      "name\n",
      "bryan allred        89098\n",
      "john flores         60345\n",
      "jeremia kimelman    59158\n",
      "greg walker         55735\n",
      "alan delevie        48695\n",
      "Name: f_changes, dtype: int64\n",
      "\n",
      "---\n",
      "\n",
      "SCSS:\n",
      "\n",
      "name\n",
      "maya benari         67380\n",
      "brendan sudol       66903\n",
      "roger steve ruiz    42645\n",
      "julia elman         42466\n",
      "peter karman        38080\n",
      "Name: f_changes, dtype: int64\n",
      "\n",
      "---\n",
      "\n",
      "GO:\n",
      "\n",
      "name\n",
      "joshua carp        108304\n",
      "aidan feldman       59709\n",
      "etourneau gwenn     46780\n",
      "james c. scott      40941\n",
      "rob dimsdale        27458\n",
      "Name: f_changes, dtype: int64\n",
      "\n",
      "---\n",
      "\n",
      "PHP:\n",
      "\n",
      "name\n",
      "matt lorimer       62396\n",
      "matthew            56503\n",
      "jakabadambalazs    21974\n",
      "gyula madarasz     17717\n",
      "haris raheem       17717\n",
      "Name: f_changes, dtype: int64\n",
      "\n",
      "---\n",
      "\n"
     ]
    }
   ],
   "source": [
    "# most changes, by file extension, by person\n",
    "\n",
    "whitelist = ['py', 'rb', 'html', 'js', 'scss', 'go', 'php']\n",
    "\n",
    "for d in whitelist:\n",
    "    df_temp = dh.query('f_type == \"{}\" & f_changes < 500'.format(d))\n",
    "    top_n = df_temp.groupby('name')['f_changes'].sum().nlargest(5)\n",
    "    print('{}:\\n\\n{}\\n\\n---\\n'.format(d.upper(), top_n))"
   ]
  }
 ],
 "metadata": {
  "kernelspec": {
   "display_name": "Python 3",
   "language": "python",
   "name": "python3"
  },
  "language_info": {
   "codemirror_mode": {
    "name": "ipython",
    "version": 3
   },
   "file_extension": ".py",
   "mimetype": "text/x-python",
   "name": "python",
   "nbconvert_exporter": "python",
   "pygments_lexer": "ipython3",
   "version": "3.5.1"
  }
 },
 "nbformat": 4,
 "nbformat_minor": 1
}
